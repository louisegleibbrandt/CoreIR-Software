{
 "cells": [
  {
   "cell_type": "code",
   "execution_count": 7,
   "id": "ccd1d785",
   "metadata": {},
   "outputs": [],
   "source": [
    "import os\n",
    "os.environ[\"JAVA_HOME\"] = \"/usr/local/Cellar/openjdk/17/libexec/openjdk.jdk/Contents/Home\"\n"
   ]
  },
  {
   "cell_type": "code",
   "execution_count": 21,
   "id": "71db25ed",
   "metadata": {},
   "outputs": [
    {
     "name": "stdout",
     "output_type": "stream",
     "text": [
      "43\n"
     ]
    }
   ],
   "source": [
    "# Load 43 test topics for which qrels exist\n",
    "import csv\n",
    "\n",
    "with open('collections/queries.200.tsv','r') as tsvIn:\n",
    "    reader = csv.reader(tsvIn, delimiter='\\t')\n",
    "    \n",
    "    topics43 = {int(row[0]): {\"title\": row[1]} for row in reader}\n",
    "    \n",
    "    print(len(topics43))"
   ]
  },
  {
   "cell_type": "code",
   "execution_count": 10,
   "id": "96482568",
   "metadata": {},
   "outputs": [
    {
     "name": "stdout",
     "output_type": "stream",
     "text": [
      "Attempting to initialize pre-built index msmarco-passage.\n",
      "Downloading index at https://git.uwaterloo.ca/jimmylin/anserini-indexes/raw/master/index-msmarco-passage-20201117-f87c94.tar.gz...\n"
     ]
    },
    {
     "name": "stderr",
     "output_type": "stream",
     "text": [
      "index-msmarco-passage-20201117-f87c94.tar.gz: 2.07GB [53:24, 692kB/s]                                                             \n"
     ]
    },
    {
     "name": "stdout",
     "output_type": "stream",
     "text": [
      "Extracting /Users/louiseleibbrandt/.cache/pyserini/indexes/index-msmarco-passage-20201117-f87c94.tar.gz into /Users/louiseleibbrandt/.cache/pyserini/indexes/index-msmarco-passage-20201117-f87c94.1efad4f1ae6a77e235042eff4be1612d...\n",
      "Initializing msmarco-passage...\n"
     ]
    }
   ],
   "source": [
    "# Load msmarco-passage index into Pyserini searcher object\n",
    "from pyserini.search import SimpleSearcher\n",
    "\n",
    "searcher = SimpleSearcher.from_prebuilt_index('msmarco-passage')"
   ]
  },
  {
   "cell_type": "code",
   "execution_count": 29,
   "id": "bc87c2a3",
   "metadata": {},
   "outputs": [
    {
     "name": "stdout",
     "output_type": "stream",
     "text": [
      "Running 43 queries in total\n"
     ]
    }
   ],
   "source": [
    "# Run search at rank 1000\n",
    "def run_all_queries(file, topics, searcher):\n",
    "    with open(file, 'w') as runfile:\n",
    "        cnt = 0\n",
    "        print('Running {} queries in total'.format(len(topics)))\n",
    "        for id in topics:\n",
    "            query = topics[id]['title']\n",
    "            hits = searcher.search(query, 1000)\n",
    "            for i in range(0, len(hits)):\n",
    "                _ = runfile.write('{} Q0 {} {} {:.6f} Anserini\\n'.format(id, hits[i].docid, i+1, hits[i].score))\n",
    "            cnt += 1\n",
    "            if cnt % 100 == 0:\n",
    "                print(f'{cnt} queries completed')\n",
    "\n",
    "\n",
    "# Set BM25 parameters to default values\n",
    "searcher.set_bm25(0.9, 0.4)\n",
    "run_all_queries('runs/run-msmarco-43testqueries-bm25.txt', topics43, searcher)"
   ]
  },
  {
   "cell_type": "code",
   "execution_count": 30,
   "id": "f19cfa78",
   "metadata": {},
   "outputs": [
    {
     "name": "stdout",
     "output_type": "stream",
     "text": [
      "Downloading https://search.maven.org/remotecontent?filepath=uk/ac/gla/dcs/terrierteam/jtreceval/0.0.5/jtreceval-0.0.5-jar-with-dependencies.jar to /Users/louiseleibbrandt/.cache/pyserini/eval/jtreceval-0.0.5-jar-with-dependencies.jar...\n",
      "/Users/louiseleibbrandt/.cache/pyserini/eval/jtreceval-0.0.5-jar-with-dependencies.jar already exists!\n",
      "Skipping download.\n",
      "Running command: ['java', '-jar', '/Users/louiseleibbrandt/.cache/pyserini/eval/jtreceval-0.0.5-jar-with-dependencies.jar', '-c', '-mndcg_cut', 'collections/2019qrels-pass.txt', 'runs/run-msmarco-43testqueries-bm25.txt']\n",
      "Results:\n",
      "ndcg_cut_5            \tall\t0.5278\n",
      "ndcg_cut_10           \tall\t0.5058\n",
      "ndcg_cut_15           \tall\t0.4980\n",
      "ndcg_cut_20           \tall\t0.4914\n",
      "ndcg_cut_30           \tall\t0.4884\n",
      "ndcg_cut_100          \tall\t0.5018\n",
      "ndcg_cut_200          \tall\t0.5332\n",
      "ndcg_cut_500          \tall\t0.5813\n",
      "ndcg_cut_1000         \tall\t0.6067\n",
      "\n"
     ]
    }
   ],
   "source": [
    "# NDCG (from trec_eval) for different ranks, rank 10 (second line) is used in our report\n",
    "!python -m pyserini.eval.trec_eval -c -mndcg_cut collections/2019qrels-pass.txt runs/run-msmarco-43testqueries-bm25.txt"
   ]
  }
 ],
 "metadata": {
  "kernelspec": {
   "display_name": "Python 3 (ipykernel)",
   "language": "python",
   "name": "python3"
  },
  "language_info": {
   "codemirror_mode": {
    "name": "ipython",
    "version": 3
   },
   "file_extension": ".py",
   "mimetype": "text/x-python",
   "name": "python",
   "nbconvert_exporter": "python",
   "pygments_lexer": "ipython3",
   "version": "3.9.10"
  }
 },
 "nbformat": 4,
 "nbformat_minor": 5
}
