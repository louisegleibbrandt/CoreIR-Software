{
 "cells": [
  {
   "cell_type": "code",
   "execution_count": 4,
   "id": "91279a1a",
   "metadata": {},
   "outputs": [
    {
     "data": {
      "text/plain": [
       "{'total_terms': 352316036,\n",
       " 'documents': 8841823,\n",
       " 'non_empty_documents': 8841823,\n",
       " 'unique_terms': -1}"
      ]
     },
     "execution_count": 4,
     "metadata": {},
     "output_type": "execute_result"
    }
   ],
   "source": [
    "# Extract index information with Pyserini\n",
    "from pyserini.index import IndexReader\n",
    "index_reader = IndexReader('indexes/lucene-index-msmarco-passage/')\n",
    "index_reader.stats()"
   ]
  },
  {
   "cell_type": "code",
   "execution_count": 23,
   "id": "88797aeb",
   "metadata": {},
   "outputs": [
    {
     "name": "stdout",
     "output_type": "stream",
     "text": [
      "2022-03-01 16:22:15,071 INFO  [main] search.SearchCollection (SearchCollection.java:378) - ============ Initializing Searcher ============\n",
      "2022-03-01 16:22:15,073 INFO  [main] search.SearchCollection (SearchCollection.java:379) - Index: indexes/msmarco-passage/lucene-index-msmarco\n",
      "2022-03-01 16:22:15,287 INFO  [main] search.SearchCollection (SearchCollection.java:459) - Language: en\n",
      "2022-03-01 16:22:15,288 INFO  [main] search.SearchCollection (SearchCollection.java:460) - Stemmer: porter\n",
      "2022-03-01 16:22:15,288 INFO  [main] search.SearchCollection (SearchCollection.java:461) - Keep stopwords? false\n",
      "2022-03-01 16:22:15,288 INFO  [main] search.SearchCollection (SearchCollection.java:462) - Stopwords file: null\n",
      "2022-03-01 16:22:15,289 INFO  [main] search.SearchCollection (SearchCollection.java:463) - Number of threads for running different parameter configurations: 1\n",
      "2022-03-01 16:22:15,289 INFO  [main] search.SearchCollection (SearchCollection.java:464) - Number of threads for running each individual parameter configuration: 4\n",
      "2022-03-01 16:22:15,297 INFO  [main] search.SearchCollection (SearchCollection.java:675) - runtag: Anserini\n",
      "2022-03-01 16:22:15,299 INFO  [main] search.SearchCollection (SearchCollection.java:681) - ============ Launching Search Threads ============\n",
      "2022-03-01 16:22:18,629 INFO  [pool-2-thread-1] search.SearchCollection$SearcherThread (SearchCollection.java:311) - ranker: bm25(k1=0.9,b=0.4), reranker: default: 43 queries processed in 00:00:03 = ~12.99 q/s\n",
      "2022-03-01 16:22:18,682 INFO  [main] search.SearchCollection (SearchCollection.java:890) - Total run time: 00:00:03\n"
     ]
    }
   ],
   "source": [
    "# Run BM25 with k1 = 0.9 and b = 0.4\n",
    "!sh target/appassembler/bin/SearchCollection -hits 1000 -parallelism 4 \\\n",
    " -index indexes/msmarco-passage/lucene-index-msmarco \\\n",
    " -topicreader TsvInt -topics collections/msmarco-passage/queries.dev.200.tsv \\\n",
    " -output runs/run.msmarco-passage.dev.200.tsv -format msmarco \\\n",
    " -bm25 -bm25.k1 0.9 -bm25.b 0.4"
   ]
  },
  {
   "cell_type": "code",
   "execution_count": 25,
   "id": "518976de",
   "metadata": {},
   "outputs": [
    {
     "name": "stdout",
     "output_type": "stream",
     "text": [
      "Done!\n",
      "Done!\n"
     ]
    }
   ],
   "source": [
    "# Convert .tsv files to .trec files\n",
    "!python tools/scripts/msmarco/convert_msmarco_to_trec_run.py \\\n",
    " --input runs/run.msmarco-passage.dev.200.tsv \\\n",
    " --output runs/run.msmarco-passage.dev.200.trec\n",
    "\n",
    "!python tools/scripts/msmarco/convert_msmarco_to_trec_qrels.py \\\n",
    " --input collections/msmarco-passage/qrels.dev.small.200.tsv \\\n",
    " --output collections/msmarco-passage/qrels.dev.small.200.trec"
   ]
  },
  {
   "cell_type": "code",
   "execution_count": 29,
   "id": "8c26fb2e",
   "metadata": {},
   "outputs": [
    {
     "name": "stdout",
     "output_type": "stream",
     "text": [
      "ndcg_cut_5            \tall\t0.5278\r\n",
      "ndcg_cut_10           \tall\t0.5058\r\n",
      "ndcg_cut_15           \tall\t0.4980\r\n",
      "ndcg_cut_20           \tall\t0.4914\r\n",
      "ndcg_cut_30           \tall\t0.4884\r\n",
      "ndcg_cut_100          \tall\t0.5018\r\n",
      "ndcg_cut_200          \tall\t0.5332\r\n",
      "ndcg_cut_500          \tall\t0.5813\r\n",
      "ndcg_cut_1000         \tall\t0.6067\r\n"
     ]
    }
   ],
   "source": [
    "# NDCG evaluation of BM25 run\n",
    "!tools/eval/trec_eval.9.0.4/trec_eval -c -mndcg_cut \\\n",
    " collections/msmarco-passage/qrels.dev.small.200.trec runs/run.msmarco-passage.dev.200.trec"
   ]
  },
  {
   "cell_type": "code",
   "execution_count": null,
   "id": "c1bfaade",
   "metadata": {},
   "outputs": [],
   "source": []
  }
 ],
 "metadata": {
  "kernelspec": {
   "display_name": "Python 3 (ipykernel)",
   "language": "python",
   "name": "python3"
  },
  "language_info": {
   "codemirror_mode": {
    "name": "ipython",
    "version": 3
   },
   "file_extension": ".py",
   "mimetype": "text/x-python",
   "name": "python",
   "nbconvert_exporter": "python",
   "pygments_lexer": "ipython3",
   "version": "3.9.10"
  }
 },
 "nbformat": 4,
 "nbformat_minor": 5
}
