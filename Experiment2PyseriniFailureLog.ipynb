{
 "cells": [
  {
   "cell_type": "code",
   "execution_count": 1,
   "id": "bb9f94ee",
   "metadata": {},
   "outputs": [
    {
     "name": "stdout",
     "output_type": "stream",
     "text": [
      "Downloading index at https://rgw.cs.uwaterloo.ca/JIMMYLIN-bucket0/pyserini-indexes/lucene-index.msmarco-v1-passage-full.20220131.9ea315.tar.gz...\n"
     ]
    },
    {
     "name": "stderr",
     "output_type": "stream",
     "text": [
      "lucene-index.msmarco-v1-passage-full.20220131.9ea315.tar.gz: 3.52GB [49:26, 1.27MB/s]                                             \n"
     ]
    },
    {
     "name": "stdout",
     "output_type": "stream",
     "text": [
      "Extracting /Users/louiseleibbrandt/.cache/pyserini/indexes/lucene-index.msmarco-v1-passage-full.20220131.9ea315.tar.gz into /Users/louiseleibbrandt/.cache/pyserini/indexes/lucene-index.msmarco-v1-passage-full.20220131.9ea315.3283069c6e8451659c8ea83e2140d739...\n"
     ]
    }
   ],
   "source": [
    "# Try workeround to download full index\n",
    "from pyserini.util import download_and_unpack_index\n",
    "\n",
    "index_dirt = download_and_unpack_index(\"https://rgw.cs.uwaterloo.ca/JIMMYLIN-bucket0/pyserini-indexes/lucene-index.msmarco-v1-passage-full.20220131.9ea315.tar.gz\", local_filename=\"lucene-index.msmarco-v1-passage-full.20220131.9ea315.tar.gz\", prebuilt=True, md5=\"3283069c6e8451659c8ea83e2140d739\")\n"
   ]
  },
  {
   "cell_type": "code",
   "execution_count": 4,
   "id": "a71d9a30",
   "metadata": {},
   "outputs": [
    {
     "ename": "JavaException",
     "evalue": "JVM exception occurred: Format version is not supported (resource BufferedChecksumIndexInput(MMapIndexInput(path=\"/Users/louiseleibbrandt/.cache/pyserini/indexes/lucene-index.msmarco-v1-passage-full.20220131.9ea315.3283069c6e8451659c8ea83e2140d739/segments_2\"))): 10 (needs to be between 7 and 9) org.apache.lucene.index.IndexFormatTooNewException",
     "output_type": "error",
     "traceback": [
      "\u001b[0;31m---------------------------------------------------------------------------\u001b[0m",
      "\u001b[0;31mJavaException\u001b[0m                             Traceback (most recent call last)",
      "Input \u001b[0;32mIn [4]\u001b[0m, in \u001b[0;36m<module>\u001b[0;34m\u001b[0m\n\u001b[1;32m      1\u001b[0m \u001b[38;5;28;01mfrom\u001b[39;00m \u001b[38;5;21;01mpyserini\u001b[39;00m\u001b[38;5;21;01m.\u001b[39;00m\u001b[38;5;21;01msearch\u001b[39;00m \u001b[38;5;28;01mimport\u001b[39;00m SimpleSearcher\n\u001b[1;32m      3\u001b[0m index_dir \u001b[38;5;241m=\u001b[39m \u001b[38;5;124m\"\u001b[39m\u001b[38;5;124m/Users/louiseleibbrandt/.cache/pyserini/indexes/lucene-index-msmarco\u001b[39m\u001b[38;5;124m\"\u001b[39m\n\u001b[0;32m----> 6\u001b[0m searcher \u001b[38;5;241m=\u001b[39m \u001b[43mSimpleSearcher\u001b[49m\u001b[43m(\u001b[49m\u001b[43mindex_dirt\u001b[49m\u001b[43m)\u001b[49m\n",
      "File \u001b[0;32m/usr/local/lib/python3.9/site-packages/pyserini/search/_searcher.py:50\u001b[0m, in \u001b[0;36mSimpleSearcher.__init__\u001b[0;34m(self, index_dir)\u001b[0m\n\u001b[1;32m     48\u001b[0m \u001b[38;5;28;01mdef\u001b[39;00m \u001b[38;5;21m__init__\u001b[39m(\u001b[38;5;28mself\u001b[39m, index_dir: \u001b[38;5;28mstr\u001b[39m):\n\u001b[1;32m     49\u001b[0m     \u001b[38;5;28mself\u001b[39m\u001b[38;5;241m.\u001b[39mindex_dir \u001b[38;5;241m=\u001b[39m index_dir\n\u001b[0;32m---> 50\u001b[0m     \u001b[38;5;28mself\u001b[39m\u001b[38;5;241m.\u001b[39mobject \u001b[38;5;241m=\u001b[39m \u001b[43mJSimpleSearcher\u001b[49m\u001b[43m(\u001b[49m\u001b[43mJString\u001b[49m\u001b[43m(\u001b[49m\u001b[43mindex_dir\u001b[49m\u001b[43m)\u001b[49m\u001b[43m)\u001b[49m\n\u001b[1;32m     51\u001b[0m     \u001b[38;5;28mself\u001b[39m\u001b[38;5;241m.\u001b[39mnum_docs \u001b[38;5;241m=\u001b[39m \u001b[38;5;28mself\u001b[39m\u001b[38;5;241m.\u001b[39mobject\u001b[38;5;241m.\u001b[39mgetTotalNumDocuments()\n",
      "File \u001b[0;32mjnius/jnius_export_class.pxi:271\u001b[0m, in \u001b[0;36mjnius.JavaClass.__init__\u001b[0;34m()\u001b[0m\n",
      "File \u001b[0;32mjnius/jnius_export_class.pxi:385\u001b[0m, in \u001b[0;36mjnius.JavaClass.call_constructor\u001b[0;34m()\u001b[0m\n",
      "File \u001b[0;32mjnius/jnius_utils.pxi:91\u001b[0m, in \u001b[0;36mjnius.check_exception\u001b[0;34m()\u001b[0m\n",
      "\u001b[0;31mJavaException\u001b[0m: JVM exception occurred: Format version is not supported (resource BufferedChecksumIndexInput(MMapIndexInput(path=\"/Users/louiseleibbrandt/.cache/pyserini/indexes/lucene-index.msmarco-v1-passage-full.20220131.9ea315.3283069c6e8451659c8ea83e2140d739/segments_2\"))): 10 (needs to be between 7 and 9) org.apache.lucene.index.IndexFormatTooNewException"
     ]
    }
   ],
   "source": [
    "# No workaround for this error (even with latest version of pyserini)\n",
    "# we decide to use Anserini and commandline (input is found below)\n",
    "from pyserini.search import SimpleSearcher\n",
    "\n",
    "searcher = SimpleSearcher(index_dirt)"
   ]
  },
  {
   "cell_type": "code",
   "execution_count": 10,
   "id": "89af3214",
   "metadata": {},
   "outputs": [
    {
     "name": "stdout",
     "output_type": "stream",
     "text": [
      "Error: Could not find or load main class io.anserini.index.IndexCollection\r\n",
      "Caused by: java.lang.ClassNotFoundException: io.anserini.index.IndexCollection\r\n"
     ]
    }
   ],
   "source": [
    "!sh target/appassembler/bin/IndexCollection -threads 9 -collection JsonCollection \\\n",
    " -generator DefaultLuceneDocumentGenerator -input collections/collection_jsonl \\\n",
    " -index indexes/msmarco-passage/lucene-index-msmarco -storePositions -storeDocvectors -storeRaw "
   ]
  }
 ],
 "metadata": {
  "kernelspec": {
   "display_name": "Python 3 (ipykernel)",
   "language": "python",
   "name": "python3"
  },
  "language_info": {
   "codemirror_mode": {
    "name": "ipython",
    "version": 3
   },
   "file_extension": ".py",
   "mimetype": "text/x-python",
   "name": "python",
   "nbconvert_exporter": "python",
   "pygments_lexer": "ipython3",
   "version": "3.9.10"
  }
 },
 "nbformat": 4,
 "nbformat_minor": 5
}
